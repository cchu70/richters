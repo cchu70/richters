{
 "cells": [
  {
   "cell_type": "code",
   "execution_count": null,
   "id": "7f51e919",
   "metadata": {},
   "outputs": [],
   "source": [
    "import numpy as np\n",
    "import scipy.stats\n",
    "import dalmatian\n",
    "import pandas as pd\n",
    "import matplotlib.pyplot as plt\n",
    "from calc_ccf import calc_ccf\n",
    "import collections\n",
    "import pdb"
   ]
  },
  {
   "cell_type": "code",
   "execution_count": null,
   "id": "f8925864",
   "metadata": {},
   "outputs": [],
   "source": [
    "wm = dalmatian.WorkspaceManager('broad-firecloud-ibmwatson/Wu_Getzlab_IBM_Richters_Clean_NoNormal')\n",
    "pairs = wm.get_pairs()"
   ]
  },
  {
   "cell_type": "code",
   "execution_count": null,
   "id": "42d8a27d",
   "metadata": {},
   "outputs": [],
   "source": [
    "# read in maf file and drop all rows where alt or ref counts are NaN\n",
    "pair_list= ['F-014-CLL-01-Pair', 'F-014-CLL-03-Pair', 'F-014-RS-01-Pair']"
   ]
  },
  {
   "cell_type": "code",
   "execution_count": null,
   "id": "1b05ffc6",
   "metadata": {},
   "outputs": [],
   "source": [
    "# maintain a list of the HUGO symbols that do not fall into a CN seg and check against known driver list\n",
    "# so we don't lose drivers to the process\n",
    "hugo_symbols = []\n",
    "\n",
    "for pair_id in pair_list:\n",
    "    \n",
    "    maf_df = pd.read_csv(pairs.unmatched_absolute_annotated_maf_capture[pair_id], sep='\\t')\n",
    "\n",
    "    cn_segs = pd.read_csv(pairs.CN_Profile_ccf[pair_id], sep='\\t')\n",
    "\n",
    "    purity = float(pairs.unmatched_absolute_called_purity[pair_id])\n",
    "\n",
    "    muts_no_segs = []\n",
    "\n",
    "    # for every mutation in the maf, calculate the CP distribution and replace the CCF distribution with the CP\n",
    "    # also add to a list all mutations that do not fall into a predetermined CN segment\n",
    "    for mut in maf_df.index:\n",
    "        curr_chr = maf_df.Chromosome[mut]\n",
    "        chr_segs = cn_segs[cn_segs.chromosome == curr_chr]\n",
    "\n",
    "        minor_cn, major_cn = None, None\n",
    "\n",
    "        for seg in chr_segs.index:\n",
    "            if maf_df.Start_position[mut] > chr_segs.start[seg] and maf_df.Start_position[mut] < chr_segs.end[seg]:\n",
    "                minor_cn = chr_segs.minor_cn[seg]\n",
    "                major_cn = chr_segs.major_cn[seg]\n",
    "\n",
    "        if pd.isna(minor_cn) or pd.isna(major_cn) or major_cn == None or minor_cn == None:\n",
    "            print(pair_id + '\\'s mutation ' + maf_df.Hugo_Symbol[mut] + ' did not fall in a predetermined segment of the profile.')\n",
    "            hugo_symbols.append(maf_df.Hugo_Symbol[mut])\n",
    "            muts_no_segs.append(mut)\n",
    "            continue\n",
    "        try:\n",
    "            new_cp_dstn = calc_ccf(minor_cn, major_cn, maf_df.alt[mut], maf_df.ref[mut], purity, cp=True)\n",
    "            new_cp_dstn_df = pd.DataFrame([new_cp_dstn], columns=maf_df.columns[-101:].tolist())\n",
    "        except ValueError as e:\n",
    "            pdb.set_trace()\n",
    "\n",
    "        maf_df.loc[mut, maf_df.columns[-101:]] = new_cp_dstn_df.transpose().to_numpy().flatten()\n",
    "\n",
    "    maf_df.drop(muts_no_segs, inplace=True)\n",
    "\n",
    "    maf_df = maf_df.infer_objects()\n",
    "    maf_df.reset_index(inplace=True, drop=True)\n",
    "    \n",
    "    # drop all mutations with incomplete CP distribution (this happens for some low coverage muts)\n",
    "    df['sum_cp'] = df.loc[:, df.columns[-101:]].sum(1)\n",
    "    df = df[df.sum_cp > 0.9]\n",
    "    df = df.drop(columns = ['sum_cp'])\n",
    "\n",
    "    maf_df.to_csv(pairs.unmatched_absolute_annotated_maf_capture_CP[pair_id], sep='\\t', index=False)"
   ]
  },
  {
   "cell_type": "code",
   "execution_count": null,
   "id": "4cac9d8a",
   "metadata": {},
   "outputs": [],
   "source": [
    "# print the set of all HUGO symbols that did not fall in CN segs\n",
    "set(hugo_symbols)"
   ]
  },
  {
   "cell_type": "code",
   "execution_count": null,
   "id": "0757e225",
   "metadata": {},
   "outputs": [],
   "source": []
  }
 ],
 "metadata": {
  "environment": {
   "name": "tf2-gpu.2-3.m74",
   "type": "gcloud",
   "uri": "gcr.io/deeplearning-platform-release/tf2-gpu.2-3:m74"
  },
  "kernelspec": {
   "display_name": "Python 3",
   "language": "python",
   "name": "python3"
  },
  "language_info": {
   "codemirror_mode": {
    "name": "ipython",
    "version": 3
   },
   "file_extension": ".py",
   "mimetype": "text/x-python",
   "name": "python",
   "nbconvert_exporter": "python",
   "pygments_lexer": "ipython3",
   "version": "3.7.10"
  }
 },
 "nbformat": 4,
 "nbformat_minor": 5
}
