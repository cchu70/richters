{
 "cells": [
  {
   "cell_type": "code",
   "execution_count": 62,
   "id": "7f51e919",
   "metadata": {},
   "outputs": [],
   "source": [
    "import numpy as np\n",
    "import scipy.stats\n",
    "import dalmatian\n",
    "import pandas as pd\n",
    "import matplotlib.pyplot as plt\n",
    "from calc_ccf import calc_ccf\n",
    "import collections\n",
    "import pdb\n",
    "from IPython.display import display, HTML\n",
    "from datetime import date\n",
    "import os\n",
    "from google.cloud import storage\n",
    "import matplotlib.pyplot as plt"
   ]
  },
  {
   "cell_type": "code",
   "execution_count": 3,
   "id": "384a0851",
   "metadata": {},
   "outputs": [],
   "source": [
    "def gen_cp_mafs(wm, out_dir, \n",
    "                forcecall_absolute_annotated_maf_capture_header, \n",
    "                forcecall_absolute_seg_file_header,\n",
    "                seg_chr_header,\n",
    "                seg_start_header,  # 'Start.bp'\n",
    "                seg_end_header,   # 'End.bp'\n",
    "                seg_minor_cn_header,  # 'modal.a1'\n",
    "                seg_major_cn_header,  # 'modal.a2'\n",
    "                purity_header,\n",
    "                pair_list=None,):\n",
    "    \n",
    "    pairs = wm.get_pairs()\n",
    "    \n",
    "    hugo_symbols = []\n",
    "    pair_list = pair_list if pair_list is not None else pairs.index.tolist()\n",
    "    for pair_id in pair_list:\n",
    "    \n",
    "        maf_df = pd.read_csv(pairs.loc[pair_id, forcecall_absolute_annotated_maf_capture_header], sep='\\t')  # forcecall_absolute_annotated_maf_capture\n",
    "        cn_segs = pd.read_csv(pairs.loc[pair_id, forcecall_absolute_seg_file_header], sep='\\t') # forcecall_absolute_seg_file\n",
    "\n",
    "        purity = float(pairs.loc[pair_id, purity_header])  # unmatched_wxs_purity\n",
    "\n",
    "        muts_no_segs = []\n",
    "\n",
    "        # for every mutation in the maf, calculate the CP distribution and replace the CCF distribution with the CP\n",
    "        # also add to a list all mutations that do not fall into a predetermined CN segment\n",
    "        for mut in maf_df.index:\n",
    "            curr_chr = maf_df.Chromosome[mut]\n",
    "            chr_segs = cn_segs[cn_segs[seg_chr_header] == curr_chr]  # Chromosome\n",
    "\n",
    "            minor_cn, major_cn = None, None\n",
    "\n",
    "            for seg in chr_segs.index:\n",
    "                if maf_df.Start_position[mut] > chr_segs.loc[seg, seg_start_header] and maf_df.Start_position[mut] < chr_segs.loc[seg, seg_end_header]:\n",
    "                    minor_cn = chr_segs.loc[seg, seg_minor_cn_header]\n",
    "                    major_cn = chr_segs.loc[seg, seg_major_cn_header]\n",
    "                    break\n",
    "\n",
    "            if pd.isna(minor_cn) or pd.isna(major_cn) or major_cn == None or minor_cn == None:\n",
    "                print(pair_id + '\\'s mutation ' + maf_df.Hugo_Symbol[mut] + ' did not fall in a predetermined segment of the profile.')\n",
    "                hugo_symbols.append(maf_df.Hugo_Symbol[mut])\n",
    "                muts_no_segs.append(mut)\n",
    "                continue\n",
    "            try:\n",
    "                new_cp_dstn = calc_ccf(minor_cn, major_cn, maf_df.alt[mut], maf_df.ref[mut], purity, cp=True)\n",
    "                new_cp_dstn_df = pd.DataFrame([new_cp_dstn], columns=maf_df.columns[-101:].tolist())\n",
    "            except ValueError as e:\n",
    "                pdb.set_trace()\n",
    "\n",
    "            maf_df.loc[mut, maf_df.columns[-101:]] = new_cp_dstn_df.transpose().to_numpy().flatten()\n",
    "\n",
    "        maf_df.drop(muts_no_segs, inplace=True)\n",
    "\n",
    "        maf_df = maf_df.infer_objects()\n",
    "        maf_df.reset_index(inplace=True, drop=True)\n",
    "\n",
    "        # drop all mutations with incomplete CP distribution (this happens for some low coverage muts)\n",
    "        maf_df['sum_cp'] = maf_df.loc[:, maf_df.columns[-101:]].sum(1)\n",
    "        maf_df = maf_df[maf_df.sum_cp > 0.9]\n",
    "        maf_df = maf_df.drop(columns = ['sum_cp'])\n",
    "        pair_cp_tsv = f\"{out_dir}/{pair_id}.unmatched_absolute_annotated_maf_capture_CP.tsv\"\n",
    "        maf_df.to_csv(pair_cp_tsv, sep=\"\\t\", index=False)\n",
    "        pairs.at[pair_id, 'unmatched_absolute_annotated_maf_capture_CP'] = pair_cp_tsv\n",
    "        \n",
    "    return pairs, hugo_symbols"
   ]
  },
  {
   "cell_type": "markdown",
   "id": "44954abe",
   "metadata": {},
   "source": [
    "# Multisample filtering validation with Beat AML\n",
    "Workspace: [broad-getzlab-ibm-taml-t/IBM_BEATAML_ControlledAccess_hg38_V1-0_DATA_Multisample_Analysis_Validation_Downsampled_Tumor_Unmatched](https://app.terra.bio/#workspaces/broad-getzlab-ibm-taml-t/IBM_BEATAML_ControlledAccess_hg38_V1-0_DATA_Multisample_Analysis_Validation_Downsampled_Tumor_Unmatched)\n",
    "\n",
    "1. Run [make_forcecall_intervals](https://app.terra.bio/#workspaces/broad-getzlab-ibm-taml-t/IBM_BEATAML_ControlledAccess_hg38_V1-0_DATA_Multisample_Analysis_Validation_Downsampled_Tumor_Unmatched/workflows/broad-getzlab-ibm-taml-t/make_forcecall_intervals)\n",
    "1. Run [forcecall_snps_and_indels_2021-02-24](https://app.terra.bio/#workspaces/broad-getzlab-ibm-taml-t/IBM_BEATAML_ControlledAccess_hg38_V1-0_DATA_Multisample_Analysis_Validation_Downsampled_Tumor_Unmatched/workflows/broad-getzlab-ibm-taml-t/forcecall_snps_and_indels_2021-02-24)\n",
    "1. Run [absolute_segforcecall_copy](https://app.terra.bio/#workspaces/broad-getzlab-ibm-taml-t/IBM_BEATAML_ControlledAccess_hg38_V1-0_DATA_Multisample_Analysis_Validation_Downsampled_Tumor_Unmatched/workflows/broad-getzlab-ibm-taml-t/absolute_segforcecall_copy). Outputs `forcecall_absolute_annotated_maf_capture`.\n",
    "1. Run [get_CN_Profile](https://app.terra.bio/#workspaces/broad-getzlab-ibm-taml-t/IBM_BEATAML_ControlledAccess_hg38_V1-0_DATA_Multisample_Analysis_Validation_Downsampled_Tumor_Unmatched/workflows/jcha/get_CN_Profile): Gets the seg file from rdata, outputs `CN_Profile_ccf`"
   ]
  },
  {
   "cell_type": "code",
   "execution_count": 4,
   "id": "708f2ba5",
   "metadata": {},
   "outputs": [],
   "source": [
    "analysis_dir = f'/Users/cchu/Documents/Code_for_Claudia/results/phylogic_cp_germline_filtering'\n",
    "if not os.path.isdir(analysis_dir):\n",
    "    os.mkdir(analysis_dir)"
   ]
  },
  {
   "cell_type": "code",
   "execution_count": 5,
   "id": "4ff14cd1",
   "metadata": {},
   "outputs": [],
   "source": [
    "full_workspace = \"broad-getzlab-ibm-taml-t/IBM_BEATAML_ControlledAccess_hg38_V1-0_DATA_Multisample_Analysis_Validation_Downsampled_Tumor_Unmatched\"\n",
    "date = \"2021-09-28\"\n",
    "out_dir = f'/Users/cchu/Documents/Code_for_Claudia/results/phylogic_cp_germline_filtering/{date}_test'\n",
    "if not os.path.isdir(out_dir):\n",
    "    os.mkdir(out_dir)\n",
    "    \n",
    "wm = dalmatian.WorkspaceManager(full_workspace)"
   ]
  },
  {
   "cell_type": "markdown",
   "id": "e7ffbab4",
   "metadata": {},
   "source": [
    "## make CP distributions"
   ]
  },
  {
   "cell_type": "code",
   "execution_count": 6,
   "id": "d1c106eb",
   "metadata": {},
   "outputs": [
    {
     "name": "stdout",
     "output_type": "stream",
     "text": [
      "ccabc01c_10pct_pair's mutation TCEA2 did not fall in a predetermined segment of the profile.\n",
      "ccabc01c_10pct_pair's mutation GAK did not fall in a predetermined segment of the profile.\n",
      "ccabc01c_10pct_pair's mutation TONSL did not fall in a predetermined segment of the profile.\n",
      "ccabc01c_10pct_pair's mutation ZNF141 did not fall in a predetermined segment of the profile.\n",
      "ccabc01c_10pct_pair's mutation NBEAP1 did not fall in a predetermined segment of the profile.\n",
      "ccabc01c_10pct_pair's mutation CDK10 did not fall in a predetermined segment of the profile.\n",
      "ccabc01c_10pct_pair's mutation ABR did not fall in a predetermined segment of the profile.\n",
      "ccabc01c_10pct_pair's mutation RICTOR did not fall in a predetermined segment of the profile.\n",
      "ccabc01c_10pct_pair's mutation ADNP2 did not fall in a predetermined segment of the profile.\n",
      "ccabc01c_10pct_pair's mutation NCAPG2 did not fall in a predetermined segment of the profile.\n",
      "ccabc01c_10pct_pair's mutation NIPA1 did not fall in a predetermined segment of the profile.\n",
      "ccabc01c_10pct_pair's mutation CNTN4 did not fall in a predetermined segment of the profile.\n",
      "ccabc01c_10pct_pair's mutation GLB1L2 did not fall in a predetermined segment of the profile.\n",
      "ccabc01c_10pct_pair's mutation MIR3687 did not fall in a predetermined segment of the profile.\n",
      "ccabc01c_10pct_pair's mutation KRTAP10-7 did not fall in a predetermined segment of the profile.\n",
      "ccabc01c_25pct_pair's mutation TCEA2 did not fall in a predetermined segment of the profile.\n",
      "ccabc01c_25pct_pair's mutation GAK did not fall in a predetermined segment of the profile.\n",
      "ccabc01c_25pct_pair's mutation TONSL did not fall in a predetermined segment of the profile.\n",
      "ccabc01c_25pct_pair's mutation ZNF141 did not fall in a predetermined segment of the profile.\n",
      "ccabc01c_25pct_pair's mutation NBEAP1 did not fall in a predetermined segment of the profile.\n",
      "ccabc01c_25pct_pair's mutation CDK10 did not fall in a predetermined segment of the profile.\n",
      "ccabc01c_25pct_pair's mutation ABR did not fall in a predetermined segment of the profile.\n",
      "ccabc01c_25pct_pair's mutation RICTOR did not fall in a predetermined segment of the profile.\n",
      "ccabc01c_25pct_pair's mutation ADNP2 did not fall in a predetermined segment of the profile.\n",
      "ccabc01c_25pct_pair's mutation NCAPG2 did not fall in a predetermined segment of the profile.\n",
      "ccabc01c_25pct_pair's mutation NIPA1 did not fall in a predetermined segment of the profile.\n"
     ]
    },
    {
     "name": "stderr",
     "output_type": "stream",
     "text": [
      "/Users/cchu/Documents/Code_for_Claudia/src/General/richters/calc_ccf.py:60: RuntimeWarning: invalid value encountered in true_divide\n",
      "  subc_ccf_hist /= sum(subc_ccf_hist)\n",
      "/Users/cchu/Documents/Code_for_Claudia/src/General/richters/calc_ccf.py:60: RuntimeWarning: invalid value encountered in true_divide\n",
      "  subc_ccf_hist /= sum(subc_ccf_hist)\n"
     ]
    },
    {
     "name": "stdout",
     "output_type": "stream",
     "text": [
      "ccabc01c_25pct_pair's mutation CNTN4 did not fall in a predetermined segment of the profile.\n",
      "ccabc01c_25pct_pair's mutation GLB1L2 did not fall in a predetermined segment of the profile.\n",
      "ccabc01c_25pct_pair's mutation PDPK1 did not fall in a predetermined segment of the profile.\n",
      "ccabc01c_25pct_pair's mutation CTD-2228K2.5 did not fall in a predetermined segment of the profile.\n"
     ]
    },
    {
     "name": "stderr",
     "output_type": "stream",
     "text": [
      "/Users/cchu/Documents/Code_for_Claudia/src/General/richters/calc_ccf.py:60: RuntimeWarning: invalid value encountered in true_divide\n",
      "  subc_ccf_hist /= sum(subc_ccf_hist)\n"
     ]
    },
    {
     "name": "stdout",
     "output_type": "stream",
     "text": [
      "ccabc01c_25pct_pair's mutation MIR3687 did not fall in a predetermined segment of the profile.\n",
      "ccabc01c_25pct_pair's mutation KRTAP10-7 did not fall in a predetermined segment of the profile.\n",
      "ccabc01c_50pct_pair's mutation TCEA2 did not fall in a predetermined segment of the profile.\n",
      "ccabc01c_50pct_pair's mutation GAK did not fall in a predetermined segment of the profile.\n",
      "ccabc01c_50pct_pair's mutation TONSL did not fall in a predetermined segment of the profile.\n",
      "ccabc01c_50pct_pair's mutation ZNF141 did not fall in a predetermined segment of the profile.\n",
      "ccabc01c_50pct_pair's mutation NBEAP1 did not fall in a predetermined segment of the profile.\n",
      "ccabc01c_50pct_pair's mutation CDK10 did not fall in a predetermined segment of the profile.\n",
      "ccabc01c_50pct_pair's mutation ABR did not fall in a predetermined segment of the profile.\n",
      "ccabc01c_50pct_pair's mutation ADNP2 did not fall in a predetermined segment of the profile.\n",
      "ccabc01c_50pct_pair's mutation NCAPG2 did not fall in a predetermined segment of the profile.\n",
      "ccabc01c_50pct_pair's mutation NIPA1 did not fall in a predetermined segment of the profile.\n",
      "ccabc01c_50pct_pair's mutation CNTN4 did not fall in a predetermined segment of the profile.\n",
      "ccabc01c_50pct_pair's mutation GLB1L2 did not fall in a predetermined segment of the profile.\n",
      "ccabc01c_50pct_pair's mutation PDPK1 did not fall in a predetermined segment of the profile.\n",
      "ccabc01c_50pct_pair's mutation MIR3687 did not fall in a predetermined segment of the profile.\n",
      "ccabc01c_50pct_pair's mutation KRTAP10-7 did not fall in a predetermined segment of the profile.\n",
      "ccabc01c_copy1_pair's mutation TONSL did not fall in a predetermined segment of the profile.\n",
      "ccabc01c_copy1_pair's mutation GAK did not fall in a predetermined segment of the profile.\n",
      "ccabc01c_copy1_pair's mutation ZNF141 did not fall in a predetermined segment of the profile.\n",
      "ccabc01c_copy1_pair's mutation NBEAP1 did not fall in a predetermined segment of the profile.\n",
      "ccabc01c_copy1_pair's mutation PCNT did not fall in a predetermined segment of the profile.\n",
      "ccabc01c_copy1_pair's mutation CDK10 did not fall in a predetermined segment of the profile.\n",
      "ccabc01c_copy1_pair's mutation ABR did not fall in a predetermined segment of the profile.\n",
      "ccabc01c_copy1_pair's mutation ADNP2 did not fall in a predetermined segment of the profile.\n",
      "ccabc01c_copy1_pair's mutation NCAPG2 did not fall in a predetermined segment of the profile.\n",
      "ccabc01c_copy1_pair's mutation PDPK1 did not fall in a predetermined segment of the profile.\n",
      "ccabc01c_copy1_pair's mutation MIR3687 did not fall in a predetermined segment of the profile.\n",
      "ccabc01c_copy1_pair's mutation KRTAP10-7 did not fall in a predetermined segment of the profile.\n",
      "ccabc01c_copy2_pair's mutation TONSL did not fall in a predetermined segment of the profile.\n",
      "ccabc01c_copy2_pair's mutation GAK did not fall in a predetermined segment of the profile.\n",
      "ccabc01c_copy2_pair's mutation ZNF141 did not fall in a predetermined segment of the profile.\n",
      "ccabc01c_copy2_pair's mutation NBEAP1 did not fall in a predetermined segment of the profile.\n",
      "ccabc01c_copy2_pair's mutation CDK10 did not fall in a predetermined segment of the profile.\n",
      "ccabc01c_copy2_pair's mutation ABR did not fall in a predetermined segment of the profile.\n",
      "ccabc01c_copy2_pair's mutation ADNP2 did not fall in a predetermined segment of the profile.\n",
      "ccabc01c_copy2_pair's mutation NCAPG2 did not fall in a predetermined segment of the profile.\n",
      "ccabc01c_copy2_pair's mutation GLB1L2 did not fall in a predetermined segment of the profile.\n",
      "ccabc01c_copy2_pair's mutation PDPK1 did not fall in a predetermined segment of the profile.\n",
      "ccabc01c_copy2_pair's mutation MIR3687 did not fall in a predetermined segment of the profile.\n",
      "ccabc01c_copy2_pair's mutation KRTAP10-7 did not fall in a predetermined segment of the profile.\n",
      "ccabc01c_copy3_pair's mutation GLB1L3 did not fall in a predetermined segment of the profile.\n",
      "ccabc01c_copy3_pair's mutation TCEA2 did not fall in a predetermined segment of the profile.\n",
      "ccabc01c_copy3_pair's mutation TONSL did not fall in a predetermined segment of the profile.\n",
      "ccabc01c_copy3_pair's mutation FANCA did not fall in a predetermined segment of the profile.\n",
      "ccabc01c_copy3_pair's mutation GAK did not fall in a predetermined segment of the profile.\n",
      "ccabc01c_copy3_pair's mutation ZNF141 did not fall in a predetermined segment of the profile.\n",
      "ccabc01c_copy3_pair's mutation NBEAP1 did not fall in a predetermined segment of the profile.\n",
      "ccabc01c_copy3_pair's mutation CDK10 did not fall in a predetermined segment of the profile.\n",
      "ccabc01c_copy3_pair's mutation ABR did not fall in a predetermined segment of the profile.\n",
      "ccabc01c_copy3_pair's mutation ADNP2 did not fall in a predetermined segment of the profile.\n",
      "ccabc01c_copy3_pair's mutation NCAPG2 did not fall in a predetermined segment of the profile.\n",
      "ccabc01c_copy3_pair's mutation GLB1L2 did not fall in a predetermined segment of the profile.\n",
      "ccabc01c_copy3_pair's mutation PDPK1 did not fall in a predetermined segment of the profile.\n",
      "ccabc01c_copy3_pair's mutation MIR3687 did not fall in a predetermined segment of the profile.\n",
      "ccabc01c_copy3_pair's mutation KRTAP10-7 did not fall in a predetermined segment of the profile.\n",
      "ccabc01c_copy3_pair's mutation ZNF512B did not fall in a predetermined segment of the profile.\n",
      "cfb5dd80_10pct_pair's mutation TONSL did not fall in a predetermined segment of the profile.\n",
      "cfb5dd80_10pct_pair's mutation GAK did not fall in a predetermined segment of the profile.\n",
      "cfb5dd80_10pct_pair's mutation ZNF141 did not fall in a predetermined segment of the profile.\n",
      "cfb5dd80_10pct_pair's mutation NBEAP1 did not fall in a predetermined segment of the profile.\n",
      "cfb5dd80_10pct_pair's mutation PCNT did not fall in a predetermined segment of the profile.\n",
      "cfb5dd80_10pct_pair's mutation CDK10 did not fall in a predetermined segment of the profile.\n",
      "cfb5dd80_10pct_pair's mutation ABR did not fall in a predetermined segment of the profile.\n",
      "cfb5dd80_10pct_pair's mutation RICTOR did not fall in a predetermined segment of the profile.\n",
      "cfb5dd80_10pct_pair's mutation ADNP2 did not fall in a predetermined segment of the profile.\n",
      "cfb5dd80_10pct_pair's mutation NCAPG2 did not fall in a predetermined segment of the profile.\n",
      "cfb5dd80_10pct_pair's mutation MIR3687 did not fall in a predetermined segment of the profile.\n",
      "cfb5dd80_25pct_pair's mutation TONSL did not fall in a predetermined segment of the profile.\n",
      "cfb5dd80_25pct_pair's mutation GAK did not fall in a predetermined segment of the profile.\n",
      "cfb5dd80_25pct_pair's mutation ZNF141 did not fall in a predetermined segment of the profile.\n",
      "cfb5dd80_25pct_pair's mutation NBEAP1 did not fall in a predetermined segment of the profile.\n",
      "cfb5dd80_25pct_pair's mutation CDK10 did not fall in a predetermined segment of the profile.\n",
      "cfb5dd80_25pct_pair's mutation ABR did not fall in a predetermined segment of the profile.\n",
      "cfb5dd80_25pct_pair's mutation RICTOR did not fall in a predetermined segment of the profile.\n",
      "cfb5dd80_25pct_pair's mutation ADNP2 did not fall in a predetermined segment of the profile.\n",
      "cfb5dd80_25pct_pair's mutation NCAPG2 did not fall in a predetermined segment of the profile.\n"
     ]
    },
    {
     "name": "stderr",
     "output_type": "stream",
     "text": [
      "/Users/cchu/Documents/Code_for_Claudia/src/General/richters/calc_ccf.py:60: RuntimeWarning: invalid value encountered in true_divide\n",
      "  subc_ccf_hist /= sum(subc_ccf_hist)\n",
      "/Users/cchu/Documents/Code_for_Claudia/src/General/richters/calc_ccf.py:60: RuntimeWarning: invalid value encountered in true_divide\n",
      "  subc_ccf_hist /= sum(subc_ccf_hist)\n"
     ]
    },
    {
     "name": "stdout",
     "output_type": "stream",
     "text": [
      "cfb5dd80_25pct_pair's mutation GLB1L2 did not fall in a predetermined segment of the profile.\n"
     ]
    },
    {
     "name": "stderr",
     "output_type": "stream",
     "text": [
      "/Users/cchu/Documents/Code_for_Claudia/src/General/richters/calc_ccf.py:60: RuntimeWarning: invalid value encountered in true_divide\n",
      "  subc_ccf_hist /= sum(subc_ccf_hist)\n"
     ]
    },
    {
     "name": "stdout",
     "output_type": "stream",
     "text": [
      "cfb5dd80_25pct_pair's mutation MIR3687 did not fall in a predetermined segment of the profile.\n",
      "cfb5dd80_50pct_pair's mutation GLB1L3 did not fall in a predetermined segment of the profile.\n",
      "cfb5dd80_50pct_pair's mutation TCEA2 did not fall in a predetermined segment of the profile.\n",
      "cfb5dd80_50pct_pair's mutation TONSL did not fall in a predetermined segment of the profile.\n",
      "cfb5dd80_50pct_pair's mutation FANCA did not fall in a predetermined segment of the profile.\n",
      "cfb5dd80_50pct_pair's mutation GAK did not fall in a predetermined segment of the profile.\n",
      "cfb5dd80_50pct_pair's mutation ZNF141 did not fall in a predetermined segment of the profile.\n",
      "cfb5dd80_50pct_pair's mutation NBEAP1 did not fall in a predetermined segment of the profile.\n",
      "cfb5dd80_50pct_pair's mutation CDK10 did not fall in a predetermined segment of the profile.\n",
      "cfb5dd80_50pct_pair's mutation ABR did not fall in a predetermined segment of the profile.\n",
      "cfb5dd80_50pct_pair's mutation ADNP2 did not fall in a predetermined segment of the profile.\n",
      "cfb5dd80_50pct_pair's mutation NCAPG2 did not fall in a predetermined segment of the profile.\n",
      "cfb5dd80_50pct_pair's mutation GLB1L2 did not fall in a predetermined segment of the profile.\n",
      "cfb5dd80_50pct_pair's mutation MIR3687 did not fall in a predetermined segment of the profile.\n",
      "cfb5dd80_50pct_pair's mutation KRTAP10-7 did not fall in a predetermined segment of the profile.\n",
      "cfb5dd80_50pct_pair's mutation ZNF512B did not fall in a predetermined segment of the profile.\n",
      "cfb5dd80_copy1_pair's mutation TCEA2 did not fall in a predetermined segment of the profile.\n",
      "cfb5dd80_copy1_pair's mutation GAK did not fall in a predetermined segment of the profile.\n",
      "cfb5dd80_copy1_pair's mutation TONSL did not fall in a predetermined segment of the profile.\n",
      "cfb5dd80_copy1_pair's mutation ZNF141 did not fall in a predetermined segment of the profile.\n",
      "cfb5dd80_copy1_pair's mutation NBEAP1 did not fall in a predetermined segment of the profile.\n",
      "cfb5dd80_copy1_pair's mutation CDK10 did not fall in a predetermined segment of the profile.\n",
      "cfb5dd80_copy1_pair's mutation ABR did not fall in a predetermined segment of the profile.\n",
      "cfb5dd80_copy1_pair's mutation ADNP2 did not fall in a predetermined segment of the profile.\n",
      "cfb5dd80_copy1_pair's mutation NCAPG2 did not fall in a predetermined segment of the profile.\n",
      "cfb5dd80_copy1_pair's mutation NIPA1 did not fall in a predetermined segment of the profile.\n",
      "cfb5dd80_copy1_pair's mutation CNTN4 did not fall in a predetermined segment of the profile.\n",
      "cfb5dd80_copy1_pair's mutation GLB1L2 did not fall in a predetermined segment of the profile.\n",
      "cfb5dd80_copy1_pair's mutation MIR3687 did not fall in a predetermined segment of the profile.\n",
      "cfb5dd80_copy1_pair's mutation KRTAP10-7 did not fall in a predetermined segment of the profile.\n",
      "cfb5dd80_copy2_pair's mutation TCEA2 did not fall in a predetermined segment of the profile.\n",
      "cfb5dd80_copy2_pair's mutation GAK did not fall in a predetermined segment of the profile.\n",
      "cfb5dd80_copy2_pair's mutation TONSL did not fall in a predetermined segment of the profile.\n",
      "cfb5dd80_copy2_pair's mutation ZNF141 did not fall in a predetermined segment of the profile.\n",
      "cfb5dd80_copy2_pair's mutation NBEAP1 did not fall in a predetermined segment of the profile.\n",
      "cfb5dd80_copy2_pair's mutation CDK10 did not fall in a predetermined segment of the profile.\n",
      "cfb5dd80_copy2_pair's mutation ABR did not fall in a predetermined segment of the profile.\n",
      "cfb5dd80_copy2_pair's mutation ADNP2 did not fall in a predetermined segment of the profile.\n",
      "cfb5dd80_copy2_pair's mutation NCAPG2 did not fall in a predetermined segment of the profile.\n",
      "cfb5dd80_copy2_pair's mutation NIPA1 did not fall in a predetermined segment of the profile.\n",
      "cfb5dd80_copy2_pair's mutation CNTN4 did not fall in a predetermined segment of the profile.\n",
      "cfb5dd80_copy2_pair's mutation GLB1L2 did not fall in a predetermined segment of the profile.\n",
      "cfb5dd80_copy2_pair's mutation CTD-2228K2.5 did not fall in a predetermined segment of the profile.\n",
      "cfb5dd80_copy2_pair's mutation MIR3687 did not fall in a predetermined segment of the profile.\n",
      "cfb5dd80_copy2_pair's mutation KRTAP10-7 did not fall in a predetermined segment of the profile.\n",
      "cfb5dd80_copy3_pair's mutation TCEA2 did not fall in a predetermined segment of the profile.\n",
      "cfb5dd80_copy3_pair's mutation GAK did not fall in a predetermined segment of the profile.\n",
      "cfb5dd80_copy3_pair's mutation TONSL did not fall in a predetermined segment of the profile.\n",
      "cfb5dd80_copy3_pair's mutation ZNF141 did not fall in a predetermined segment of the profile.\n",
      "cfb5dd80_copy3_pair's mutation NBEAP1 did not fall in a predetermined segment of the profile.\n",
      "cfb5dd80_copy3_pair's mutation CDK10 did not fall in a predetermined segment of the profile.\n",
      "cfb5dd80_copy3_pair's mutation ABR did not fall in a predetermined segment of the profile.\n",
      "cfb5dd80_copy3_pair's mutation ADNP2 did not fall in a predetermined segment of the profile.\n",
      "cfb5dd80_copy3_pair's mutation NCAPG2 did not fall in a predetermined segment of the profile.\n",
      "cfb5dd80_copy3_pair's mutation NIPA1 did not fall in a predetermined segment of the profile.\n",
      "cfb5dd80_copy3_pair's mutation CNTN4 did not fall in a predetermined segment of the profile.\n",
      "cfb5dd80_copy3_pair's mutation GLB1L2 did not fall in a predetermined segment of the profile.\n",
      "cfb5dd80_copy3_pair's mutation MIR3687 did not fall in a predetermined segment of the profile.\n",
      "cfb5dd80_copy3_pair's mutation KRTAP10-7 did not fall in a predetermined segment of the profile.\n"
     ]
    }
   ],
   "source": [
    "pairs, hugo_symbols = gen_cp_mafs(wm=wm,\n",
    "                                    out_dir=out_dir, \n",
    "                                    forcecall_absolute_annotated_maf_capture_header='forcecall_absolute_annotated_maf_capture', \n",
    "                                    forcecall_absolute_seg_file_header='CN_Profile_ccf',\n",
    "                                    seg_chr_header=\"chromosome\",\n",
    "                                    seg_start_header='start', \n",
    "                                    seg_end_header='end',\n",
    "                                    seg_minor_cn_header='minor_cn', \n",
    "                                    seg_major_cn_header='major_cn', \n",
    "                                    purity_header='purity',\n",
    "                                    pair_list=None)"
   ]
  },
  {
   "cell_type": "code",
   "execution_count": 7,
   "id": "a5acb6b1",
   "metadata": {},
   "outputs": [
    {
     "name": "stdout",
     "output_type": "stream",
     "text": [
      "['TCEA2', 'GAK', 'TONSL', 'ZNF141', 'NBEAP1', 'CDK10', 'ABR', 'RICTOR', 'ADNP2', 'NCAPG2', 'NIPA1', 'CNTN4', 'GLB1L2', 'MIR3687', 'KRTAP10-7', 'TCEA2', 'GAK', 'TONSL', 'ZNF141', 'NBEAP1', 'CDK10', 'ABR', 'RICTOR', 'ADNP2', 'NCAPG2', 'NIPA1', 'CNTN4', 'GLB1L2', 'PDPK1', 'CTD-2228K2.5', 'MIR3687', 'KRTAP10-7', 'TCEA2', 'GAK', 'TONSL', 'ZNF141', 'NBEAP1', 'CDK10', 'ABR', 'ADNP2', 'NCAPG2', 'NIPA1', 'CNTN4', 'GLB1L2', 'PDPK1', 'MIR3687', 'KRTAP10-7', 'TONSL', 'GAK', 'ZNF141', 'NBEAP1', 'PCNT', 'CDK10', 'ABR', 'ADNP2', 'NCAPG2', 'PDPK1', 'MIR3687', 'KRTAP10-7', 'TONSL', 'GAK', 'ZNF141', 'NBEAP1', 'CDK10', 'ABR', 'ADNP2', 'NCAPG2', 'GLB1L2', 'PDPK1', 'MIR3687', 'KRTAP10-7', 'GLB1L3', 'TCEA2', 'TONSL', 'FANCA', 'GAK', 'ZNF141', 'NBEAP1', 'CDK10', 'ABR', 'ADNP2', 'NCAPG2', 'GLB1L2', 'PDPK1', 'MIR3687', 'KRTAP10-7', 'ZNF512B', 'TONSL', 'GAK', 'ZNF141', 'NBEAP1', 'PCNT', 'CDK10', 'ABR', 'RICTOR', 'ADNP2', 'NCAPG2', 'MIR3687', 'TONSL', 'GAK', 'ZNF141', 'NBEAP1', 'CDK10', 'ABR', 'RICTOR', 'ADNP2', 'NCAPG2', 'GLB1L2', 'MIR3687', 'GLB1L3', 'TCEA2', 'TONSL', 'FANCA', 'GAK', 'ZNF141', 'NBEAP1', 'CDK10', 'ABR', 'ADNP2', 'NCAPG2', 'GLB1L2', 'MIR3687', 'KRTAP10-7', 'ZNF512B', 'TCEA2', 'GAK', 'TONSL', 'ZNF141', 'NBEAP1', 'CDK10', 'ABR', 'ADNP2', 'NCAPG2', 'NIPA1', 'CNTN4', 'GLB1L2', 'MIR3687', 'KRTAP10-7', 'TCEA2', 'GAK', 'TONSL', 'ZNF141', 'NBEAP1', 'CDK10', 'ABR', 'ADNP2', 'NCAPG2', 'NIPA1', 'CNTN4', 'GLB1L2', 'CTD-2228K2.5', 'MIR3687', 'KRTAP10-7', 'TCEA2', 'GAK', 'TONSL', 'ZNF141', 'NBEAP1', 'CDK10', 'ABR', 'ADNP2', 'NCAPG2', 'NIPA1', 'CNTN4', 'GLB1L2', 'MIR3687', 'KRTAP10-7']\n"
     ]
    }
   ],
   "source": [
    "print(hugo_symbols)"
   ]
  },
  {
   "cell_type": "markdown",
   "id": "b277d05b",
   "metadata": {},
   "source": [
    "## Upload CP files back to the workspace"
   ]
  },
  {
   "cell_type": "code",
   "execution_count": 13,
   "id": "8316175b",
   "metadata": {},
   "outputs": [],
   "source": [
    "def upload_single_data_google_bucket(bucket, input_file_name, google_bucket_output_name, timeout=None):\n",
    "    this_blob = bucket.blob(google_bucket_output_name)\n",
    "    if timeout is None:\n",
    "        this_blob.upload_from_filename(input_file_name)\n",
    "    else:\n",
    "        this_blob.upload_from_filename(input_file_name, timeout=timeout)\n",
    "\n",
    "\n",
    "def get_google_bucket_output_name_url(bucket_name, google_bucket_output_name):\n",
    "    return 'gs://' + bucket_name + '/' + google_bucket_output_name"
   ]
  },
  {
   "cell_type": "code",
   "execution_count": 19,
   "id": "52f47677",
   "metadata": {},
   "outputs": [],
   "source": [
    "client = storage.Client()\n",
    "bucket_name = wm.get_bucket_id()\n",
    "bucket = client.get_bucket(bucket_name)"
   ]
  },
  {
   "cell_type": "code",
   "execution_count": 8,
   "id": "081e42a8",
   "metadata": {},
   "outputs": [
    {
     "name": "stdout",
     "output_type": "stream",
     "text": [
      "{'ccabc01c_10pct_pair': 'gs://fc-secure-004c9983-0e8a-4f92-a1f4-3bb61670c5b1/CP_mafs_for_phylogic_germline_filtering/ccabc01c_10pct_pair.unmatched_absolute_annotated_maf_capture_CP.tsv', 'ccabc01c_25pct_pair': 'gs://fc-secure-004c9983-0e8a-4f92-a1f4-3bb61670c5b1/CP_mafs_for_phylogic_germline_filtering/ccabc01c_25pct_pair.unmatched_absolute_annotated_maf_capture_CP.tsv', 'ccabc01c_50pct_pair': 'gs://fc-secure-004c9983-0e8a-4f92-a1f4-3bb61670c5b1/CP_mafs_for_phylogic_germline_filtering/ccabc01c_50pct_pair.unmatched_absolute_annotated_maf_capture_CP.tsv', 'ccabc01c_copy1_pair': 'gs://fc-secure-004c9983-0e8a-4f92-a1f4-3bb61670c5b1/CP_mafs_for_phylogic_germline_filtering/ccabc01c_copy1_pair.unmatched_absolute_annotated_maf_capture_CP.tsv', 'ccabc01c_copy2_pair': 'gs://fc-secure-004c9983-0e8a-4f92-a1f4-3bb61670c5b1/CP_mafs_for_phylogic_germline_filtering/ccabc01c_copy2_pair.unmatched_absolute_annotated_maf_capture_CP.tsv', 'ccabc01c_copy3_pair': 'gs://fc-secure-004c9983-0e8a-4f92-a1f4-3bb61670c5b1/CP_mafs_for_phylogic_germline_filtering/ccabc01c_copy3_pair.unmatched_absolute_annotated_maf_capture_CP.tsv', 'cfb5dd80_10pct_pair': 'gs://fc-secure-004c9983-0e8a-4f92-a1f4-3bb61670c5b1/CP_mafs_for_phylogic_germline_filtering/cfb5dd80_10pct_pair.unmatched_absolute_annotated_maf_capture_CP.tsv', 'cfb5dd80_25pct_pair': 'gs://fc-secure-004c9983-0e8a-4f92-a1f4-3bb61670c5b1/CP_mafs_for_phylogic_germline_filtering/cfb5dd80_25pct_pair.unmatched_absolute_annotated_maf_capture_CP.tsv', 'cfb5dd80_50pct_pair': 'gs://fc-secure-004c9983-0e8a-4f92-a1f4-3bb61670c5b1/CP_mafs_for_phylogic_germline_filtering/cfb5dd80_50pct_pair.unmatched_absolute_annotated_maf_capture_CP.tsv', 'cfb5dd80_copy1_pair': 'gs://fc-secure-004c9983-0e8a-4f92-a1f4-3bb61670c5b1/CP_mafs_for_phylogic_germline_filtering/cfb5dd80_copy1_pair.unmatched_absolute_annotated_maf_capture_CP.tsv', 'cfb5dd80_copy2_pair': 'gs://fc-secure-004c9983-0e8a-4f92-a1f4-3bb61670c5b1/CP_mafs_for_phylogic_germline_filtering/cfb5dd80_copy2_pair.unmatched_absolute_annotated_maf_capture_CP.tsv', 'cfb5dd80_copy3_pair': 'gs://fc-secure-004c9983-0e8a-4f92-a1f4-3bb61670c5b1/CP_mafs_for_phylogic_germline_filtering/cfb5dd80_copy3_pair.unmatched_absolute_annotated_maf_capture_CP.tsv'}\n"
     ]
    }
   ],
   "source": [
    "gcloud_file_dict = {}\n",
    "for pair_id, row in pairs.iterrows():\n",
    "    cp_maf_fn = row['unmatched_absolute_annotated_maf_capture_CP']\n",
    "    google_bucket_file_path = f\"CP_mafs_for_phylogic_germline_filtering/{cp_maf_fn.split('/')[-1]}\"\n",
    "    upload_single_data_google_bucket(bucket, cp_maf_fn, google_bucket_file_path)\n",
    "    # add path to dict to add to Terra\n",
    "    gcloud_file_dict[pair_id] = get_google_bucket_output_name_url(bucket_name, google_bucket_file_path)\n",
    "    \n",
    "print(gcloud_file_dict)\n",
    "    \n",
    "    "
   ]
  },
  {
   "cell_type": "code",
   "execution_count": 9,
   "id": "0d81aac6",
   "metadata": {},
   "outputs": [
    {
     "name": "stdout",
     "output_type": "stream",
     "text": [
      "Successfully updated attribute 'unmatched_absolute_annotated_maf_capture_CP' for 12 pairs.\n",
      "Hound executing batch upload of 48 records\n"
     ]
    }
   ],
   "source": [
    "wm.update_entity_attributes('pair', pd.Series(gcloud_file_dict, name='unmatched_absolute_annotated_maf_capture_CP'))"
   ]
  },
  {
   "cell_type": "markdown",
   "id": "fec38ad5",
   "metadata": {},
   "source": [
    "## Run phylogic\n",
    "\n",
    "[PhylogicNDT](https://app.terra.bio/#workspaces/broad-getzlab-ibm-taml-t/IBM_BEATAML_ControlledAccess_hg38_V1-0_DATA_Multisample_Analysis_Validation_Downsampled_Tumor_Unmatched/workflows/broad-getzlab-ibm-taml-t/PhylogicNDT) outputs `CP_mut_ccfs` that includes the cluster assignments"
   ]
  },
  {
   "cell_type": "markdown",
   "id": "3dd66908",
   "metadata": {},
   "source": [
    "## Get the mutation table\n",
    "- Black list cluster 1. Filter the maf files\n",
    "- Reupload new maf files to terra\n",
    "- Run multisample analysis"
   ]
  },
  {
   "cell_type": "code",
   "execution_count": 15,
   "id": "95fd907d",
   "metadata": {},
   "outputs": [],
   "source": [
    "merge_cols = ['Hugo_Symbol', \n",
    "              'Chromosome', \n",
    "              'Start_position', \n",
    "              'Variant_Classification', \n",
    "              'Reference_Allele']\n",
    "\n",
    "filtered_mafs_dir = f'{out_dir}/CP_phylogic_filter_annotated_mafs'\n",
    "if not os.path.isdir(filtered_mafs_dir):\n",
    "    os.mkdir(filtered_mafs_dir)"
   ]
  },
  {
   "cell_type": "code",
   "execution_count": 37,
   "id": "116c0f5d",
   "metadata": {},
   "outputs": [
    {
     "name": "stdout",
     "output_type": "stream",
     "text": [
      "ccabc01c_copy1_cfb5dd80_10pct\n",
      "ccabc01c_copy2_cfb5dd80_25pct\n",
      "ccabc01c_copy3_cfb5dd80_50pct\n",
      "cfb5dd80_copy1_ccabc01c_10pct\n",
      "cfb5dd80_copy2_ccabc01c_25pct\n",
      "cfb5dd80_copy3_ccabc01c_50pct\n"
     ]
    }
   ],
   "source": [
    "participants = wm.get_participants()\n",
    "participants = participants[~participants['CP_mut_ccfs'].isnull()]\n",
    "pairs = wm.get_pairs()\n",
    "    \n",
    "for participant_id, row in participants.iterrows():\n",
    "    print(participant_id)\n",
    "    # get the cluster table\n",
    "    CP_mut_ccfs = pd.read_csv(row['CP_mut_ccfs'], sep='\\t', dtype=str)\n",
    "    CP_mut_ccfs = CP_mut_ccfs[merge_cols + ['Cluster_Assignment']]\n",
    "    # TODO: select black list clusters by their average CCF\n",
    "    blacklist_clusters = ['1']\n",
    "    \n",
    "    # get pairs\n",
    "    participant_pairs = row['pairs_']\n",
    "    raw_mafs = pairs.loc[participant_pairs].copy()\n",
    "    for pair_id, row in raw_mafs.iterrows():\n",
    "        raw_maf_df = pd.read_csv(row['unmatched_mutation_validator_validated_maf'], sep='\\t', dtype=str)\n",
    "        filtered_maf_df = raw_maf_df.merge(CP_mut_ccfs, on=merge_cols, how='left')\n",
    "        filtered_maf_df['pass_phylogic_cp_filter'] = ~filtered_maf_df['Cluster_Assignment'].isin(blacklist_clusters)\n",
    "        CP_phylogic_filtered_maf_fn = f\"{filtered_mafs_dir}/{pair_id}.CP_phylogic_filter_annotated_maf.tsv\"\n",
    "        filtered_maf_df.to_csv(CP_phylogic_filtered_maf_fn, sep='\\t', index=False)\n",
    "        pairs.loc[pair_id, 'CP_phylogic_filtered_maf_fn'] = CP_phylogic_filtered_maf_fn\n",
    "    "
   ]
  },
  {
   "cell_type": "code",
   "execution_count": 38,
   "id": "d509e6fb",
   "metadata": {},
   "outputs": [],
   "source": [
    "gcloud_CP_filtered_dict = {}\n",
    "client = storage.Client()\n",
    "bucket_name = wm.get_bucket_id()\n",
    "bucket = client.get_bucket(bucket_name)\n",
    "for pair_id, row in pairs.iterrows():\n",
    "    cp_maf_fn = row['CP_phylogic_filtered_maf_fn']\n",
    "    google_bucket_file_path = f\"CP_phylogic_filtered_mafs/{cp_maf_fn.split('/')[-1]}\"\n",
    "    upload_single_data_google_bucket(bucket, cp_maf_fn, google_bucket_file_path)\n",
    "    # add path to dict to add to Terra\n",
    "    gcloud_CP_filtered_dict[pair_id] = get_google_bucket_output_name_url(bucket_name, google_bucket_file_path)\n",
    "    "
   ]
  },
  {
   "cell_type": "code",
   "execution_count": 39,
   "id": "4f42f359",
   "metadata": {},
   "outputs": [
    {
     "name": "stdout",
     "output_type": "stream",
     "text": [
      "Successfully updated attribute 'CP_phylogic_filtered_maf' for 12 pairs.\n",
      "Hound executing batch upload of 48 records\n"
     ]
    }
   ],
   "source": [
    "wm.update_entity_attributes('pair', pd.Series(gcloud_CP_filtered_dict, name='CP_phylogic_filtered_maf'))"
   ]
  },
  {
   "cell_type": "markdown",
   "id": "a5614b2b",
   "metadata": {},
   "source": [
    "## Compare precision and sensitivity"
   ]
  },
  {
   "cell_type": "code",
   "execution_count": 40,
   "id": "ade90ee0",
   "metadata": {},
   "outputs": [],
   "source": [
    "unmatched_full_workspace = \"broad-getzlab-ibm-taml-t/IBM_BEATAML_ControlledAccess_hg38_V1-0_DATA_Multisample_Analysis_Validation_Downsampled_Tumor_Unmatched\"\n",
    "unmatched_wm = dalmatian.WorkspaceManager(unmatched_full_workspace)\n",
    "unmatched_pairs = unmatched_wm.get_pairs()\n",
    "\n",
    "matched_full_workspace = \"broad-getzlab-ibm-taml-t/IBM_BEATAML_ControlledAccess_hg38_V1-0_DATA_Multisample_Analysis_Validation__Downsampled_Tumor_Matched\"\n",
    "matched_wm = dalmatian.WorkspaceManager(matched_full_workspace)\n",
    "matched_pairs = matched_wm.get_pairs()"
   ]
  },
  {
   "cell_type": "code",
   "execution_count": 41,
   "id": "8b3ebbaa",
   "metadata": {},
   "outputs": [],
   "source": [
    "unmatched_tonly_maf_col = \"unmatched_MAF_Logs_tonly\"\n",
    "unmatched_phylogic_maf_col = \"CP_phylogic_filtered_maf\"\n",
    "matched_maf_col = \"mutation_validator_validated_maf\"\n",
    "maf_merge_cols = ['Hugo_Symbol', \n",
    "                  'Chromosome', \n",
    "                  'Start_position', \n",
    "                  'End_position', \n",
    "                  'Variant_Classification', \n",
    "                  'Reference_Allele', \n",
    "                  'Tumor_Seq_Allele2']\n",
    "\n",
    "merged_mafs_dir = f'{out_dir}/merged_mafs'\n",
    "if not os.path.isdir(merged_mafs_dir):\n",
    "    os.mkdir(merged_mafs_dir)\n"
   ]
  },
  {
   "cell_type": "code",
   "execution_count": 42,
   "id": "c8a998c4",
   "metadata": {},
   "outputs": [],
   "source": [
    "participants = unmatched_wm.get_participants()\n",
    "participants = participants[~participants['pairs_'].isnull()]"
   ]
  },
  {
   "cell_type": "code",
   "execution_count": 43,
   "id": "cd292465",
   "metadata": {},
   "outputs": [],
   "source": [
    "def get_maf_df(f, sep='\\t', string_cols=None, bool_cols=None):\n",
    "    \"\"\"\n",
    "    f - a file path or gsurl\n",
    "    \"\"\"\n",
    "    df = pd.read_csv(f, sep=sep, dtype=str)\n",
    "    if bool_cols:\n",
    "        df[bool_cols] = df[bool_cols].apply(lambda x: x.str.lower()) == \"true\"\n",
    "    \n",
    "    return df\n",
    "    \n",
    "    \n",
    "def tonly_multisample_analysis(high_pur_maf, low_pur_maf, maf_merge_cols, filter_col='pass_tumor_only_filter'):\n",
    "    multisample_maf = pd.merge(high_pur_maf, low_pur_maf, on=maf_merge_cols, how='left', suffixes=('', '_low'))\n",
    "    low_pur_filter_col = f\"{filter_col}_low\"\n",
    "    multisample_maf[low_pur_filter_col] = multisample_maf[low_pur_filter_col].fillna(True)\n",
    "    multisample_maf['pass_multisample_tonly'] = multisample_maf[filter_col] & multisample_maf[low_pur_filter_col]\n",
    "    multisample_maf = multisample_maf[maf_merge_cols + ['pass_multisample_tonly']]\n",
    "    return multisample_maf"
   ]
  },
  {
   "cell_type": "code",
   "execution_count": 58,
   "id": "64e5b18f",
   "metadata": {},
   "outputs": [
    {
     "name": "stdout",
     "output_type": "stream",
     "text": [
      "['ccabc01c_copy1_pair', 'cfb5dd80_10pct_pair']\n",
      "['ccabc01c_copy2_pair', 'cfb5dd80_25pct_pair']\n",
      "['ccabc01c_copy3_pair', 'cfb5dd80_50pct_pair']\n",
      "['ccabc01c_10pct_pair', 'cfb5dd80_copy1_pair']\n",
      "['ccabc01c_25pct_pair', 'cfb5dd80_copy2_pair']\n",
      "['ccabc01c_50pct_pair', 'cfb5dd80_copy3_pair']\n"
     ]
    }
   ],
   "source": [
    "for participant_id, row in participants.iterrows():\n",
    "    pairs = row['pairs_']\n",
    "    print(pairs)\n",
    "    high_pur_pair = [p for p in pairs if 'copy' in p][0]\n",
    "    low_pur_pair = [p for p in pairs if 'pct' in p][0]\n",
    "    \n",
    "    matched_maf = get_maf_df(matched_pairs.loc[high_pur_pair, matched_maf_col])[maf_merge_cols]\n",
    "    matched_maf['in_matched_maf'] = True\n",
    "\n",
    "    unmatched_tonly_maf = get_maf_df(unmatched_pairs.loc[high_pur_pair, unmatched_tonly_maf_col], bool_cols=['pass_tumor_only_filter'])[maf_merge_cols + ['pass_tumor_only_filter']]\n",
    "\n",
    "    unmatched_phylogic_maf = get_maf_df(unmatched_pairs.loc[high_pur_pair, unmatched_phylogic_maf_col], bool_cols=['pass_phylogic_cp_filter'])[maf_merge_cols + ['pass_phylogic_cp_filter', 'Cluster_Assignment']]\n",
    "\n",
    "    low_pur_unmatched_tonly_maf = get_maf_df(unmatched_pairs.loc[low_pur_pair, unmatched_tonly_maf_col], bool_cols=['pass_tumor_only_filter'])[maf_merge_cols + ['pass_tumor_only_filter']]\n",
    "    multisample_tonly_maf = tonly_multisample_analysis(unmatched_tonly_maf, low_pur_unmatched_tonly_maf, maf_merge_cols)\n",
    "    \n",
    "    # Merge\n",
    "    merged_mafs = matched_maf.merge(unmatched_tonly_maf, on=maf_merge_cols, how=\"outer\")\n",
    "    merged_mafs = merged_mafs.merge(unmatched_phylogic_maf, on=maf_merge_cols, how=\"outer\")\n",
    "    merged_mafs = merged_mafs.merge(multisample_tonly_maf, on=maf_merge_cols, how=\"outer\")\n",
    "    \n",
    "    merged_maf_fn = f'{merged_mafs_dir}/{high_pur_pair}.merged_maf.tsv'\n",
    "    merged_mafs.to_csv(merged_maf_fn, sep='\\t', index=False)\n",
    "    unmatched_pairs.at[high_pur_pair, 'merged_maf_fn'] = merged_maf_fn"
   ]
  },
  {
   "cell_type": "code",
   "execution_count": 59,
   "id": "4c09e6ce",
   "metadata": {},
   "outputs": [
    {
     "data": {
      "text/plain": [
       "['',\n",
       " 'Users',\n",
       " 'cchu',\n",
       " 'Documents',\n",
       " 'Code_for_Claudia',\n",
       " 'results',\n",
       " 'phylogic_cp_germline_filtering',\n",
       " '2021-09-28_test',\n",
       " 'merged_mafs',\n",
       " 'cfb5dd80_copy3_pair.merged_maf.tsv']"
      ]
     },
     "metadata": {},
     "output_type": "display_data"
    }
   ],
   "source": [
    "display(unmatched_pairs['merged_maf_fn'].str.split('/')[-1])"
   ]
  },
  {
   "cell_type": "code",
   "execution_count": 60,
   "id": "956b8765",
   "metadata": {},
   "outputs": [],
   "source": [
    "def precision_recall_table(df, truth_col, test_cols):\n",
    "    prec_recall_df = pd.DataFrame()\n",
    "    total_trues = np.sum(df[truth_col])\n",
    "    for col in test_cols:\n",
    "        true_positives = np.sum(df[col] & df[truth_col])\n",
    "        total_positives = np.sum(df[col])\n",
    "        precision = true_positives / total_positives\n",
    "        sensitivity = true_positives / total_trues\n",
    "        prec_recall_df = prec_recall_df.append({'filter': col,\n",
    "                                                'true_positives': true_positives,\n",
    "                                                'total_positives': total_positives,\n",
    "                                                'total_trues': total_trues,\n",
    "                                                'precision': precision,\n",
    "                                                'sensitivity': sensitivity},\n",
    "                                               ignore_index=True)\n",
    "    return prec_recall_df"
   ]
  },
  {
   "cell_type": "code",
   "execution_count": 61,
   "id": "ebad7363",
   "metadata": {},
   "outputs": [
    {
     "name": "stdout",
     "output_type": "stream",
     "text": [
      "/Users/cchu/Documents/Code_for_Claudia/results/phylogic_cp_germline_filtering/2021-09-28_test/merged_mafs/ccabc01c_copy1_pair.merged_maf.tsv\n",
      "ccabc01c_copy1_cfb5dd80_10pct\n"
     ]
    },
    {
     "data": {
      "text/html": [
       "<div>\n",
       "<style scoped>\n",
       "    .dataframe tbody tr th:only-of-type {\n",
       "        vertical-align: middle;\n",
       "    }\n",
       "\n",
       "    .dataframe tbody tr th {\n",
       "        vertical-align: top;\n",
       "    }\n",
       "\n",
       "    .dataframe thead th {\n",
       "        text-align: right;\n",
       "    }\n",
       "</style>\n",
       "<table border=\"1\" class=\"dataframe\">\n",
       "  <thead>\n",
       "    <tr style=\"text-align: right;\">\n",
       "      <th></th>\n",
       "      <th>filter</th>\n",
       "      <th>precision</th>\n",
       "      <th>sensitivity</th>\n",
       "      <th>total_positives</th>\n",
       "      <th>total_trues</th>\n",
       "      <th>true_positives</th>\n",
       "    </tr>\n",
       "  </thead>\n",
       "  <tbody>\n",
       "    <tr>\n",
       "      <th>0</th>\n",
       "      <td>pass_tumor_only_filter</td>\n",
       "      <td>0.092607</td>\n",
       "      <td>0.894737</td>\n",
       "      <td>1285.0</td>\n",
       "      <td>133.0</td>\n",
       "      <td>119.0</td>\n",
       "    </tr>\n",
       "    <tr>\n",
       "      <th>1</th>\n",
       "      <td>pass_phylogic_cp_filter</td>\n",
       "      <td>0.274005</td>\n",
       "      <td>0.879699</td>\n",
       "      <td>427.0</td>\n",
       "      <td>133.0</td>\n",
       "      <td>117.0</td>\n",
       "    </tr>\n",
       "    <tr>\n",
       "      <th>2</th>\n",
       "      <td>pass_multisample_tonly</td>\n",
       "      <td>0.446565</td>\n",
       "      <td>0.879699</td>\n",
       "      <td>262.0</td>\n",
       "      <td>133.0</td>\n",
       "      <td>117.0</td>\n",
       "    </tr>\n",
       "  </tbody>\n",
       "</table>\n",
       "</div>"
      ],
      "text/plain": [
       "                    filter  precision  sensitivity  total_positives  \\\n",
       "0   pass_tumor_only_filter   0.092607     0.894737           1285.0   \n",
       "1  pass_phylogic_cp_filter   0.274005     0.879699            427.0   \n",
       "2   pass_multisample_tonly   0.446565     0.879699            262.0   \n",
       "\n",
       "   total_trues  true_positives  \n",
       "0        133.0           119.0  \n",
       "1        133.0           117.0  \n",
       "2        133.0           117.0  "
      ]
     },
     "metadata": {},
     "output_type": "display_data"
    },
    {
     "name": "stdout",
     "output_type": "stream",
     "text": [
      "/Users/cchu/Documents/Code_for_Claudia/results/phylogic_cp_germline_filtering/2021-09-28_test/merged_mafs/ccabc01c_copy2_pair.merged_maf.tsv\n",
      "ccabc01c_copy2_cfb5dd80_25pct\n"
     ]
    },
    {
     "data": {
      "text/html": [
       "<div>\n",
       "<style scoped>\n",
       "    .dataframe tbody tr th:only-of-type {\n",
       "        vertical-align: middle;\n",
       "    }\n",
       "\n",
       "    .dataframe tbody tr th {\n",
       "        vertical-align: top;\n",
       "    }\n",
       "\n",
       "    .dataframe thead th {\n",
       "        text-align: right;\n",
       "    }\n",
       "</style>\n",
       "<table border=\"1\" class=\"dataframe\">\n",
       "  <thead>\n",
       "    <tr style=\"text-align: right;\">\n",
       "      <th></th>\n",
       "      <th>filter</th>\n",
       "      <th>precision</th>\n",
       "      <th>sensitivity</th>\n",
       "      <th>total_positives</th>\n",
       "      <th>total_trues</th>\n",
       "      <th>true_positives</th>\n",
       "    </tr>\n",
       "  </thead>\n",
       "  <tbody>\n",
       "    <tr>\n",
       "      <th>0</th>\n",
       "      <td>pass_tumor_only_filter</td>\n",
       "      <td>0.090980</td>\n",
       "      <td>0.893130</td>\n",
       "      <td>1286.0</td>\n",
       "      <td>131.0</td>\n",
       "      <td>117.0</td>\n",
       "    </tr>\n",
       "    <tr>\n",
       "      <th>1</th>\n",
       "      <td>pass_phylogic_cp_filter</td>\n",
       "      <td>0.241597</td>\n",
       "      <td>0.877863</td>\n",
       "      <td>476.0</td>\n",
       "      <td>131.0</td>\n",
       "      <td>115.0</td>\n",
       "    </tr>\n",
       "    <tr>\n",
       "      <th>2</th>\n",
       "      <td>pass_multisample_tonly</td>\n",
       "      <td>0.389831</td>\n",
       "      <td>0.877863</td>\n",
       "      <td>295.0</td>\n",
       "      <td>131.0</td>\n",
       "      <td>115.0</td>\n",
       "    </tr>\n",
       "  </tbody>\n",
       "</table>\n",
       "</div>"
      ],
      "text/plain": [
       "                    filter  precision  sensitivity  total_positives  \\\n",
       "0   pass_tumor_only_filter   0.090980     0.893130           1286.0   \n",
       "1  pass_phylogic_cp_filter   0.241597     0.877863            476.0   \n",
       "2   pass_multisample_tonly   0.389831     0.877863            295.0   \n",
       "\n",
       "   total_trues  true_positives  \n",
       "0        131.0           117.0  \n",
       "1        131.0           115.0  \n",
       "2        131.0           115.0  "
      ]
     },
     "metadata": {},
     "output_type": "display_data"
    },
    {
     "name": "stdout",
     "output_type": "stream",
     "text": [
      "/Users/cchu/Documents/Code_for_Claudia/results/phylogic_cp_germline_filtering/2021-09-28_test/merged_mafs/ccabc01c_copy3_pair.merged_maf.tsv\n",
      "ccabc01c_copy3_cfb5dd80_50pct\n"
     ]
    },
    {
     "data": {
      "text/html": [
       "<div>\n",
       "<style scoped>\n",
       "    .dataframe tbody tr th:only-of-type {\n",
       "        vertical-align: middle;\n",
       "    }\n",
       "\n",
       "    .dataframe tbody tr th {\n",
       "        vertical-align: top;\n",
       "    }\n",
       "\n",
       "    .dataframe thead th {\n",
       "        text-align: right;\n",
       "    }\n",
       "</style>\n",
       "<table border=\"1\" class=\"dataframe\">\n",
       "  <thead>\n",
       "    <tr style=\"text-align: right;\">\n",
       "      <th></th>\n",
       "      <th>filter</th>\n",
       "      <th>precision</th>\n",
       "      <th>sensitivity</th>\n",
       "      <th>total_positives</th>\n",
       "      <th>total_trues</th>\n",
       "      <th>true_positives</th>\n",
       "    </tr>\n",
       "  </thead>\n",
       "  <tbody>\n",
       "    <tr>\n",
       "      <th>0</th>\n",
       "      <td>pass_tumor_only_filter</td>\n",
       "      <td>0.091892</td>\n",
       "      <td>0.894737</td>\n",
       "      <td>1295.0</td>\n",
       "      <td>133.0</td>\n",
       "      <td>119.0</td>\n",
       "    </tr>\n",
       "    <tr>\n",
       "      <th>1</th>\n",
       "      <td>pass_phylogic_cp_filter</td>\n",
       "      <td>0.194127</td>\n",
       "      <td>0.894737</td>\n",
       "      <td>613.0</td>\n",
       "      <td>133.0</td>\n",
       "      <td>119.0</td>\n",
       "    </tr>\n",
       "    <tr>\n",
       "      <th>2</th>\n",
       "      <td>pass_multisample_tonly</td>\n",
       "      <td>0.219153</td>\n",
       "      <td>0.894737</td>\n",
       "      <td>543.0</td>\n",
       "      <td>133.0</td>\n",
       "      <td>119.0</td>\n",
       "    </tr>\n",
       "  </tbody>\n",
       "</table>\n",
       "</div>"
      ],
      "text/plain": [
       "                    filter  precision  sensitivity  total_positives  \\\n",
       "0   pass_tumor_only_filter   0.091892     0.894737           1295.0   \n",
       "1  pass_phylogic_cp_filter   0.194127     0.894737            613.0   \n",
       "2   pass_multisample_tonly   0.219153     0.894737            543.0   \n",
       "\n",
       "   total_trues  true_positives  \n",
       "0        133.0           119.0  \n",
       "1        133.0           119.0  \n",
       "2        133.0           119.0  "
      ]
     },
     "metadata": {},
     "output_type": "display_data"
    },
    {
     "name": "stdout",
     "output_type": "stream",
     "text": [
      "/Users/cchu/Documents/Code_for_Claudia/results/phylogic_cp_germline_filtering/2021-09-28_test/merged_mafs/cfb5dd80_copy1_pair.merged_maf.tsv\n",
      "cfb5dd80_copy1_ccabc01c_10pct\n"
     ]
    },
    {
     "data": {
      "text/html": [
       "<div>\n",
       "<style scoped>\n",
       "    .dataframe tbody tr th:only-of-type {\n",
       "        vertical-align: middle;\n",
       "    }\n",
       "\n",
       "    .dataframe tbody tr th {\n",
       "        vertical-align: top;\n",
       "    }\n",
       "\n",
       "    .dataframe thead th {\n",
       "        text-align: right;\n",
       "    }\n",
       "</style>\n",
       "<table border=\"1\" class=\"dataframe\">\n",
       "  <thead>\n",
       "    <tr style=\"text-align: right;\">\n",
       "      <th></th>\n",
       "      <th>filter</th>\n",
       "      <th>precision</th>\n",
       "      <th>sensitivity</th>\n",
       "      <th>total_positives</th>\n",
       "      <th>total_trues</th>\n",
       "      <th>true_positives</th>\n",
       "    </tr>\n",
       "  </thead>\n",
       "  <tbody>\n",
       "    <tr>\n",
       "      <th>0</th>\n",
       "      <td>pass_tumor_only_filter</td>\n",
       "      <td>0.167665</td>\n",
       "      <td>0.929461</td>\n",
       "      <td>1336.0</td>\n",
       "      <td>241.0</td>\n",
       "      <td>224.0</td>\n",
       "    </tr>\n",
       "    <tr>\n",
       "      <th>1</th>\n",
       "      <td>pass_phylogic_cp_filter</td>\n",
       "      <td>0.472917</td>\n",
       "      <td>0.941909</td>\n",
       "      <td>480.0</td>\n",
       "      <td>241.0</td>\n",
       "      <td>227.0</td>\n",
       "    </tr>\n",
       "    <tr>\n",
       "      <th>2</th>\n",
       "      <td>pass_multisample_tonly</td>\n",
       "      <td>0.691589</td>\n",
       "      <td>0.921162</td>\n",
       "      <td>321.0</td>\n",
       "      <td>241.0</td>\n",
       "      <td>222.0</td>\n",
       "    </tr>\n",
       "  </tbody>\n",
       "</table>\n",
       "</div>"
      ],
      "text/plain": [
       "                    filter  precision  sensitivity  total_positives  \\\n",
       "0   pass_tumor_only_filter   0.167665     0.929461           1336.0   \n",
       "1  pass_phylogic_cp_filter   0.472917     0.941909            480.0   \n",
       "2   pass_multisample_tonly   0.691589     0.921162            321.0   \n",
       "\n",
       "   total_trues  true_positives  \n",
       "0        241.0           224.0  \n",
       "1        241.0           227.0  \n",
       "2        241.0           222.0  "
      ]
     },
     "metadata": {},
     "output_type": "display_data"
    },
    {
     "name": "stdout",
     "output_type": "stream",
     "text": [
      "/Users/cchu/Documents/Code_for_Claudia/results/phylogic_cp_germline_filtering/2021-09-28_test/merged_mafs/cfb5dd80_copy2_pair.merged_maf.tsv\n",
      "cfb5dd80_copy2_ccabc01c_25pct\n"
     ]
    },
    {
     "data": {
      "text/html": [
       "<div>\n",
       "<style scoped>\n",
       "    .dataframe tbody tr th:only-of-type {\n",
       "        vertical-align: middle;\n",
       "    }\n",
       "\n",
       "    .dataframe tbody tr th {\n",
       "        vertical-align: top;\n",
       "    }\n",
       "\n",
       "    .dataframe thead th {\n",
       "        text-align: right;\n",
       "    }\n",
       "</style>\n",
       "<table border=\"1\" class=\"dataframe\">\n",
       "  <thead>\n",
       "    <tr style=\"text-align: right;\">\n",
       "      <th></th>\n",
       "      <th>filter</th>\n",
       "      <th>precision</th>\n",
       "      <th>sensitivity</th>\n",
       "      <th>total_positives</th>\n",
       "      <th>total_trues</th>\n",
       "      <th>true_positives</th>\n",
       "    </tr>\n",
       "  </thead>\n",
       "  <tbody>\n",
       "    <tr>\n",
       "      <th>0</th>\n",
       "      <td>pass_tumor_only_filter</td>\n",
       "      <td>0.166917</td>\n",
       "      <td>0.928870</td>\n",
       "      <td>1330.0</td>\n",
       "      <td>239.0</td>\n",
       "      <td>222.0</td>\n",
       "    </tr>\n",
       "    <tr>\n",
       "      <th>1</th>\n",
       "      <td>pass_phylogic_cp_filter</td>\n",
       "      <td>0.342988</td>\n",
       "      <td>0.941423</td>\n",
       "      <td>656.0</td>\n",
       "      <td>239.0</td>\n",
       "      <td>225.0</td>\n",
       "    </tr>\n",
       "    <tr>\n",
       "      <th>2</th>\n",
       "      <td>pass_multisample_tonly</td>\n",
       "      <td>0.656805</td>\n",
       "      <td>0.928870</td>\n",
       "      <td>338.0</td>\n",
       "      <td>239.0</td>\n",
       "      <td>222.0</td>\n",
       "    </tr>\n",
       "  </tbody>\n",
       "</table>\n",
       "</div>"
      ],
      "text/plain": [
       "                    filter  precision  sensitivity  total_positives  \\\n",
       "0   pass_tumor_only_filter   0.166917     0.928870           1330.0   \n",
       "1  pass_phylogic_cp_filter   0.342988     0.941423            656.0   \n",
       "2   pass_multisample_tonly   0.656805     0.928870            338.0   \n",
       "\n",
       "   total_trues  true_positives  \n",
       "0        239.0           222.0  \n",
       "1        239.0           225.0  \n",
       "2        239.0           222.0  "
      ]
     },
     "metadata": {},
     "output_type": "display_data"
    },
    {
     "name": "stdout",
     "output_type": "stream",
     "text": [
      "/Users/cchu/Documents/Code_for_Claudia/results/phylogic_cp_germline_filtering/2021-09-28_test/merged_mafs/cfb5dd80_copy3_pair.merged_maf.tsv\n",
      "cfb5dd80_copy3_ccabc01c_50pct\n"
     ]
    },
    {
     "data": {
      "text/html": [
       "<div>\n",
       "<style scoped>\n",
       "    .dataframe tbody tr th:only-of-type {\n",
       "        vertical-align: middle;\n",
       "    }\n",
       "\n",
       "    .dataframe tbody tr th {\n",
       "        vertical-align: top;\n",
       "    }\n",
       "\n",
       "    .dataframe thead th {\n",
       "        text-align: right;\n",
       "    }\n",
       "</style>\n",
       "<table border=\"1\" class=\"dataframe\">\n",
       "  <thead>\n",
       "    <tr style=\"text-align: right;\">\n",
       "      <th></th>\n",
       "      <th>filter</th>\n",
       "      <th>precision</th>\n",
       "      <th>sensitivity</th>\n",
       "      <th>total_positives</th>\n",
       "      <th>total_trues</th>\n",
       "      <th>true_positives</th>\n",
       "    </tr>\n",
       "  </thead>\n",
       "  <tbody>\n",
       "    <tr>\n",
       "      <th>0</th>\n",
       "      <td>pass_tumor_only_filter</td>\n",
       "      <td>0.168168</td>\n",
       "      <td>0.929461</td>\n",
       "      <td>1332.0</td>\n",
       "      <td>241.0</td>\n",
       "      <td>224.0</td>\n",
       "    </tr>\n",
       "    <tr>\n",
       "      <th>1</th>\n",
       "      <td>pass_phylogic_cp_filter</td>\n",
       "      <td>0.326979</td>\n",
       "      <td>0.925311</td>\n",
       "      <td>682.0</td>\n",
       "      <td>241.0</td>\n",
       "      <td>223.0</td>\n",
       "    </tr>\n",
       "    <tr>\n",
       "      <th>2</th>\n",
       "      <td>pass_multisample_tonly</td>\n",
       "      <td>0.393673</td>\n",
       "      <td>0.929461</td>\n",
       "      <td>569.0</td>\n",
       "      <td>241.0</td>\n",
       "      <td>224.0</td>\n",
       "    </tr>\n",
       "  </tbody>\n",
       "</table>\n",
       "</div>"
      ],
      "text/plain": [
       "                    filter  precision  sensitivity  total_positives  \\\n",
       "0   pass_tumor_only_filter   0.168168     0.929461           1332.0   \n",
       "1  pass_phylogic_cp_filter   0.326979     0.925311            682.0   \n",
       "2   pass_multisample_tonly   0.393673     0.929461            569.0   \n",
       "\n",
       "   total_trues  true_positives  \n",
       "0        241.0           224.0  \n",
       "1        241.0           223.0  \n",
       "2        241.0           224.0  "
      ]
     },
     "metadata": {},
     "output_type": "display_data"
    }
   ],
   "source": [
    "for pair_id, row in unmatched_pairs.iterrows():\n",
    "    if 'copy' in pair_id:\n",
    "        merged_maf = pd.read_csv(row['merged_maf_fn'], sep='\\t')\n",
    "        print(row['merged_maf_fn'])\n",
    "        print(row['participant'])\n",
    "        table = precision_recall_table(merged_maf, 'in_matched_maf', ['pass_tumor_only_filter', 'pass_phylogic_cp_filter', 'pass_multisample_tonly'] )\n",
    "        display(table)"
   ]
  },
  {
   "cell_type": "code",
   "execution_count": 83,
   "id": "1d2dade1",
   "metadata": {},
   "outputs": [],
   "source": [
    "def plot_filter_cluster_distr(merged_maf_df, filter_col):\n",
    "    for pair_id, row in merged_maf_df.iterrows():\n",
    "        if 'copy' in pair_id:\n",
    "            merged_maf = pd.read_csv(row['merged_maf_fn'], sep='\\t')\n",
    "            print(row['participant'])\n",
    "            fig, ax = plt.subplots()\n",
    "            merged_maf['Cluster_Assignment'] = merged_maf['Cluster_Assignment'].fillna(0)  # no cluster assignment\n",
    "            tonly_clusters = merged_maf[merged_maf[filter_col] == True]['Cluster_Assignment'].tolist()\n",
    "    #         tonly_clusters = merged_maf[merged_maf['pass_tumor_only_filter'] == True]['Cluster_Assignment'].tolist()\n",
    "            uniq_clusters, uniq_counts = np.unique(tonly_clusters, return_counts=True)\n",
    "            ax.bar(uniq_clusters, uniq_counts)\n",
    "            plt.show()\n"
   ]
  },
  {
   "cell_type": "code",
   "execution_count": 84,
   "id": "07c95c44",
   "metadata": {},
   "outputs": [
    {
     "name": "stdout",
     "output_type": "stream",
     "text": [
      "ccabc01c_copy1_cfb5dd80_10pct\n"
     ]
    },
    {
     "data": {
      "image/png": "[encoded data removed]",
      "text/plain": [
       "<Figure size 432x288 with 1 Axes>"
      ]
     },
     "metadata": {
      "needs_background": "light"
     },
     "output_type": "display_data"
    },
    {
     "name": "stdout",
     "output_type": "stream",
     "text": [
      "ccabc01c_copy2_cfb5dd80_25pct\n"
     ]
    },
    {
     "data": {
      "image/png": "[encoded data removed]",
      "text/plain": [
       "<Figure size 432x288 with 1 Axes>"
      ]
     },
     "metadata": {
      "needs_background": "light"
     },
     "output_type": "display_data"
    },
    {
     "name": "stdout",
     "output_type": "stream",
     "text": [
      "ccabc01c_copy3_cfb5dd80_50pct\n"
     ]
    },
    {
     "data": {
      "image/png": "[encoded data removed]",
      "text/plain": [
       "<Figure size 432x288 with 1 Axes>"
      ]
     },
     "metadata": {
      "needs_background": "light"
     },
     "output_type": "display_data"
    },
    {
     "name": "stdout",
     "output_type": "stream",
     "text": [
      "cfb5dd80_copy1_ccabc01c_10pct\n"
     ]
    },
    {
     "data": {
      "image/png": "[encoded data removed]",
      "text/plain": [
       "<Figure size 432x288 with 1 Axes>"
      ]
     },
     "metadata": {
      "needs_background": "light"
     },
     "output_type": "display_data"
    },
    {
     "name": "stdout",
     "output_type": "stream",
     "text": [
      "cfb5dd80_copy2_ccabc01c_25pct\n"
     ]
    },
    {
     "data": {
      "image/png": "[encoded data removed]",
      "text/plain": [
       "<Figure size 432x288 with 1 Axes>"
      ]
     },
     "metadata": {
      "needs_background": "light"
     },
     "output_type": "display_data"
    },
    {
     "name": "stdout",
     "output_type": "stream",
     "text": [
      "cfb5dd80_copy3_ccabc01c_50pct\n"
     ]
    },
    {
     "data": {
      "image/png": "[encoded data removed]",
      "text/plain": [
       "<Figure size 432x288 with 1 Axes>"
      ]
     },
     "metadata": {
      "needs_background": "light"
     },
     "output_type": "display_data"
    }
   ],
   "source": [
    "high_purity_merged_mafs = unmatched_pairs.loc[unmatched_pairs.index.str.contains('copy')]\n",
    "plot_filter_cluster_distr(high_purity_merged_mafs, filter_col='pass_tumor_only_filter')"
   ]
  },
  {
   "cell_type": "code",
   "execution_count": 85,
   "id": "8e73ee3e",
   "metadata": {},
   "outputs": [
    {
     "name": "stdout",
     "output_type": "stream",
     "text": [
      "ccabc01c_copy1_cfb5dd80_10pct\n"
     ]
    },
    {
     "data": {
      "image/png": "[encoded data removed]",
      "text/plain": [
       "<Figure size 432x288 with 1 Axes>"
      ]
     },
     "metadata": {
      "needs_background": "light"
     },
     "output_type": "display_data"
    },
    {
     "name": "stdout",
     "output_type": "stream",
     "text": [
      "ccabc01c_copy2_cfb5dd80_25pct\n"
     ]
    },
    {
     "data": {
      "image/png": "[encoded data removed]",
      "text/plain": [
       "<Figure size 432x288 with 1 Axes>"
      ]
     },
     "metadata": {
      "needs_background": "light"
     },
     "output_type": "display_data"
    },
    {
     "name": "stdout",
     "output_type": "stream",
     "text": [
      "ccabc01c_copy3_cfb5dd80_50pct\n"
     ]
    },
    {
     "data": {
      "image/png": "[encoded data removed]",
      "text/plain": [
       "<Figure size 432x288 with 1 Axes>"
      ]
     },
     "metadata": {
      "needs_background": "light"
     },
     "output_type": "display_data"
    },
    {
     "name": "stdout",
     "output_type": "stream",
     "text": [
      "cfb5dd80_copy1_ccabc01c_10pct\n"
     ]
    },
    {
     "data": {
      "image/png": "[encoded data removed]",
      "text/plain": [
       "<Figure size 432x288 with 1 Axes>"
      ]
     },
     "metadata": {
      "needs_background": "light"
     },
     "output_type": "display_data"
    },
    {
     "name": "stdout",
     "output_type": "stream",
     "text": [
      "cfb5dd80_copy2_ccabc01c_25pct\n"
     ]
    },
    {
     "data": {
      "image/png": "[encoded data removed]",
      "text/plain": [
       "<Figure size 432x288 with 1 Axes>"
      ]
     },
     "metadata": {
      "needs_background": "light"
     },
     "output_type": "display_data"
    },
    {
     "name": "stdout",
     "output_type": "stream",
     "text": [
      "cfb5dd80_copy3_ccabc01c_50pct\n"
     ]
    },
    {
     "data": {
      "image/png": "[encoded data removed]",
      "text/plain": [
       "<Figure size 432x288 with 1 Axes>"
      ]
     },
     "metadata": {
      "needs_background": "light"
     },
     "output_type": "display_data"
    }
   ],
   "source": [
    "plot_filter_cluster_distr(high_purity_merged_mafs, filter_col='in_matched_maf')"
   ]
  },
  {
   "cell_type": "code",
   "execution_count": 86,
   "id": "c89a786d",
   "metadata": {},
   "outputs": [
    {
     "name": "stdout",
     "output_type": "stream",
     "text": [
      "ccabc01c_copy1_cfb5dd80_10pct\n"
     ]
    },
    {
     "data": {
      "image/png": "[encoded data removed]",
      "text/plain": [
       "<Figure size 432x288 with 1 Axes>"
      ]
     },
     "metadata": {
      "needs_background": "light"
     },
     "output_type": "display_data"
    },
    {
     "name": "stdout",
     "output_type": "stream",
     "text": [
      "ccabc01c_copy2_cfb5dd80_25pct\n"
     ]
    },
    {
     "data": {
      "image/png": "[encoded data removed]",
      "text/plain": [
       "<Figure size 432x288 with 1 Axes>"
      ]
     },
     "metadata": {
      "needs_background": "light"
     },
     "output_type": "display_data"
    },
    {
     "name": "stdout",
     "output_type": "stream",
     "text": [
      "ccabc01c_copy3_cfb5dd80_50pct\n"
     ]
    },
    {
     "data": {
      "image/png": "[encoded data removed]",
      "text/plain": [
       "<Figure size 432x288 with 1 Axes>"
      ]
     },
     "metadata": {
      "needs_background": "light"
     },
     "output_type": "display_data"
    },
    {
     "name": "stdout",
     "output_type": "stream",
     "text": [
      "cfb5dd80_copy1_ccabc01c_10pct\n"
     ]
    },
    {
     "data": {
      "image/png": "[encoded data removed]",
      "text/plain": [
       "<Figure size 432x288 with 1 Axes>"
      ]
     },
     "metadata": {
      "needs_background": "light"
     },
     "output_type": "display_data"
    },
    {
     "name": "stdout",
     "output_type": "stream",
     "text": [
      "cfb5dd80_copy2_ccabc01c_25pct\n"
     ]
    },
    {
     "data": {
      "image/png": "[encoded data removed]",
      "text/plain": [
       "<Figure size 432x288 with 1 Axes>"
      ]
     },
     "metadata": {
      "needs_background": "light"
     },
     "output_type": "display_data"
    },
    {
     "name": "stdout",
     "output_type": "stream",
     "text": [
      "cfb5dd80_copy3_ccabc01c_50pct\n"
     ]
    },
    {
     "data": {
      "image/png": "[encoded data removed]",
      "text/plain": [
       "<Figure size 432x288 with 1 Axes>"
      ]
     },
     "metadata": {
      "needs_background": "light"
     },
     "output_type": "display_data"
    }
   ],
   "source": [
    "plot_filter_cluster_distr(high_purity_merged_mafs, filter_col='pass_multisample_tonly')"
   ]
  }
 ],
 "metadata": {
  "environment": {
   "name": "tf2-gpu.2-3.m74",
   "type": "gcloud",
   "uri": "gcr.io/deeplearning-platform-release/tf2-gpu.2-3:m74"
  },
  "kernelspec": {
   "display_name": "Python 3 (ipykernel)",
   "language": "python",
   "name": "python3"
  },
  "language_info": {
   "codemirror_mode": {
    "name": "ipython",
    "version": 3
   },
   "file_extension": ".py",
   "mimetype": "text/x-python",
   "name": "python",
   "nbconvert_exporter": "python",
   "pygments_lexer": "ipython3",
   "version": "3.8.2"
  }
 },
 "nbformat": 4,
 "nbformat_minor": 5
}
